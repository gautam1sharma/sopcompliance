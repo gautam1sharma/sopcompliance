{
 "cells": [
  {
   "cell_type": "code",
   "execution_count": 1,
   "id": "4b03f45f-24a2-4317-a92c-9eb50cd3126e",
   "metadata": {},
   "outputs": [
    {
     "name": "stdout",
     "output_type": "stream",
     "text": [
      " Current working directory: C:\\Users\\DELL\\Desktop\\Horizon17\\sopcompliance\n"
     ]
    }
   ],
   "source": [
    "import os\n",
    "print(\" Current working directory:\", os.getcwd())"
   ]
  },
  {
   "cell_type": "code",
   "execution_count": 27,
   "id": "8bbb362d-3fea-4788-8ad4-9c8f8d6b30de",
   "metadata": {},
   "outputs": [],
   "source": [
    "import os\n",
    "import re \n",
    "import json \n",
    "from collections import Counter \n",
    "import fitz\n",
    "from nltk.tokenize import sent_tokenize"
   ]
  },
  {
   "cell_type": "code",
   "execution_count": 28,
   "id": "c11d7c77-fe79-4130-b712-660d24744794",
   "metadata": {},
   "outputs": [
    {
     "name": "stderr",
     "output_type": "stream",
     "text": [
      "[nltk_data] Downloading package punkt to\n",
      "[nltk_data]     C:\\Users\\DELL\\AppData\\Roaming\\nltk_data...\n",
      "[nltk_data]   Package punkt is already up-to-date!\n"
     ]
    },
    {
     "data": {
      "text/plain": [
       "True"
      ]
     },
     "execution_count": 28,
     "metadata": {},
     "output_type": "execute_result"
    }
   ],
   "source": [
    "nltk.download('punkt')"
   ]
  },
  {
   "cell_type": "code",
   "execution_count": 16,
   "id": "83108c67-5362-4425-9bc2-6818850c84bf",
   "metadata": {},
   "outputs": [],
   "source": [
    "def extract_text_from_pdf(path):\n",
    "    text_pg = []\n",
    "    with fitz.open(path) as doc:\n",
    "        for page in doc:\n",
    "            text_pg.append(page.get_text())\n",
    "    return\"\\n\".join(text_pg)"
   ]
  },
  {
   "cell_type": "code",
   "execution_count": 29,
   "id": "c7239d4e-92e0-457c-aaf4-e6d9b89cbfe4",
   "metadata": {},
   "outputs": [],
   "source": [
    "def clean_text(text):\n",
    "    text = re.sub(r\"[^a-zA-Z0-9.,:;()\\-\\n\\s]\", \" \", text)\n",
    "    text = re.sub(r\"[\\n\\r\\t]+\", \" \", text)\n",
    "    text = re.sub(r\"\\n{2,}\", \"\\n\", text)\n",
    "    sentences = sent_tokenize(text)\n",
    "    sentences = [s.strip() for s in sentences if len(s.strip()) > 10]\n",
    "    return \"\\n\".join(sentences)"
   ]
  },
  {
   "cell_type": "code",
   "execution_count": 20,
   "id": "15eaba04-9db4-4b0c-88cf-63558474d28e",
   "metadata": {},
   "outputs": [],
   "source": [
    "def remove_h_f(text,threshold = 2):\n",
    "    lines = text.split(\"\\n\")\n",
    "    line_counts = Counter(lines)\n",
    "    filtered_lines = [line for line in lines if line_counts[line] <= threshold and line.strip() !='']\n",
    "    return \"\\n\".join(filtered_lines)"
   ]
  },
  {
   "cell_type": "code",
   "execution_count": 21,
   "id": "d4de4485-bd2b-42d7-9788-dace1741218a",
   "metadata": {},
   "outputs": [],
   "source": [
    "def extract_and_clean(filepath):\n",
    "    ext = filepath.lower().split('.')[-1]\n",
    "    if ext == 'pdf':\n",
    "        raw_text = extract_text_from_pdf(filepath)\n",
    "    else:\n",
    "        raise ValueError(f\"Unsupported file format: {ext}\")\n",
    "\n",
    "    cleaned = clean_text(raw_text)\n",
    "    cleaned = remove_h_f(cleaned)\n",
    "    return cleaned"
   ]
  },
  {
   "cell_type": "code",
   "execution_count": 22,
   "id": "1c424397-d04a-4708-8468-6829a78b3169",
   "metadata": {},
   "outputs": [],
   "source": [
    "def process_and_save_sops_to_json(folder_path, output_json_path):\n",
    "    results = []\n",
    "    for fname in os.listdir(folder_path):\n",
    "        if fname.lower().endswith(('.pdf', '.docx', '.txt')):\n",
    "            path = os.path.join(folder_path, fname)\n",
    "            try:\n",
    "                text = extract_and_clean(path)\n",
    "                results.append({\n",
    "                    \"filename\": fname,\n",
    "                    \"text\": text\n",
    "                })\n",
    "                print(f\"[INFO] Processed {fname}\")\n",
    "            except Exception as e:\n",
    "                print(f\"[ERROR] Could not process {fname}: {e}\")\n",
    "\n",
    "    with open(output_json_path, 'w', encoding='utf-8') as f:\n",
    "        json.dump(results, f, indent=2, ensure_ascii=False)\n",
    "    print(f\"[INFO] Saved cleaned SOPs to {output_json_path}\")\n"
   ]
  },
  {
   "cell_type": "code",
   "execution_count": 30,
   "id": "c4c678b9-4c2f-476b-9567-60cc51316fca",
   "metadata": {},
   "outputs": [
    {
     "name": "stdout",
     "output_type": "stream",
     "text": [
      "[INFO] Processed 300-POL-001_EISP Policy.pdf\n",
      "[INFO] Processed 31_Política de Seguridad de la Información_EN.pdf\n",
      "[INFO] Processed FIVE_Information-Secuirty-Policy.pdf\n",
      "[INFO] Processed ICS_Policy_2023-NPS_Trust.pdf\n",
      "[INFO] Processed Information security and DP incident reporting 1.5.pdf\n",
      "[INFO] Processed Information-Security-Policy-godrej.pdf\n",
      "[INFO] Processed Information-Security-Policy_230209_EN.pdf\n",
      "[INFO] Processed Information-Security_Policy-Statement.pdf\n",
      "[INFO] Processed InformationSecurityPolicy-godfreyphillips.pdf\n",
      "[INFO] Processed informationsecuritypolicy-uni-of-liverpool.pdf\n",
      "[INFO] Processed Information_Security_Policy_paytm.pdf\n",
      "[INFO] Processed PDS-Information-Security-Policy-v2.0.pdf\n",
      "[INFO] Processed rti-information_security_policy_2023.docx_1.pdf\n",
      "[INFO] Processed SOP1.pdf\n",
      "[INFO] Processed SOP2.pdf\n",
      "[INFO] Processed SOP3.pdf\n",
      "[INFO] Saved cleaned SOPs to cleaned_sopsv2.json\n"
     ]
    }
   ],
   "source": [
    "if __name__ == \"__main__\":\n",
    "    folder = \"./SOPs\"  # Folder with SOP files\n",
    "    output_json = \"cleaned_sopsv2.json\"\n",
    "    process_and_save_sops_to_json(folder, output_json)"
   ]
  },
  {
   "cell_type": "code",
   "execution_count": null,
   "id": "eeb4e9ad-d42a-49a6-a32f-acffedc87d5c",
   "metadata": {},
   "outputs": [],
   "source": []
  }
 ],
 "metadata": {
  "kernelspec": {
   "display_name": "Python 3 (ipykernel)",
   "language": "python",
   "name": "python3"
  },
  "language_info": {
   "codemirror_mode": {
    "name": "ipython",
    "version": 3
   },
   "file_extension": ".py",
   "mimetype": "text/x-python",
   "name": "python",
   "nbconvert_exporter": "python",
   "pygments_lexer": "ipython3",
   "version": "3.12.7"
  }
 },
 "nbformat": 4,
 "nbformat_minor": 5
}
