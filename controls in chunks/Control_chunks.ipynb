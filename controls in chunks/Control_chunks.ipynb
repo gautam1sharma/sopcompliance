{
  "nbformat": 4,
  "nbformat_minor": 0,
  "metadata": {
    "colab": {
      "provenance": []
    },
    "kernelspec": {
      "name": "python3",
      "display_name": "Python 3"
    },
    "language_info": {
      "name": "python"
    }
  },
  "cells": [
    {
      "cell_type": "code",
      "execution_count": 2,
      "metadata": {
        "id": "rZjVBnaTT_MX"
      },
      "outputs": [],
      "source": [
        "import json\n",
        "import os\n",
        "import nltk\n",
        "from nltk import sent_tokenize"
      ]
    },
    {
      "cell_type": "code",
      "source": [
        "nltk.download(\"punkt_tab\")"
      ],
      "metadata": {
        "colab": {
          "base_uri": "https://localhost:8080/"
        },
        "id": "xbyKbPvKURtM",
        "outputId": "c6373f10-77bf-4706-dde9-2baf567ca032"
      },
      "execution_count": 3,
      "outputs": [
        {
          "output_type": "stream",
          "name": "stderr",
          "text": [
            "[nltk_data] Downloading package punkt_tab to /root/nltk_data...\n",
            "[nltk_data]   Unzipping tokenizers/punkt_tab.zip.\n"
          ]
        },
        {
          "output_type": "execute_result",
          "data": {
            "text/plain": [
              "True"
            ]
          },
          "metadata": {},
          "execution_count": 3
        }
      ]
    },
    {
      "cell_type": "code",
      "source": [
        "INPUT_FILE = \"iso27002_extracted.json\"\n",
        "OUTPUT_FILE = \"iso27002_chunked_100.json\""
      ],
      "metadata": {
        "id": "JMkjx8kWUYVN"
      },
      "execution_count": 21,
      "outputs": []
    },
    {
      "cell_type": "code",
      "source": [
        "if not os.path.exists(INPUT_FILE):\n",
        "    raise FileNotFoundError(f\"Input file '{INPUT_FILE}' not found in current directory.\")\n",
        "\n",
        "with open(INPUT_FILE, \"r\", encoding=\"utf-8\") as f:\n",
        "    iso_data = json.load(f)"
      ],
      "metadata": {
        "id": "PLpchGh3UkdT"
      },
      "execution_count": 22,
      "outputs": []
    },
    {
      "cell_type": "code",
      "source": [
        "chunked_data = {}"
      ],
      "metadata": {
        "id": "adGPB8UmUqMk"
      },
      "execution_count": 23,
      "outputs": []
    },
    {
      "cell_type": "code",
      "source": [
        "for clause_id,content in iso_data.items():\n",
        "  clause_name = content.get(\"Clause Name\",\"\").strip()\n",
        "  control = content.get(\"Control\",\"\").strip()\n",
        "  purpose = content.get(\"Purpose\",\"\").strip()\n",
        "  guidance = content.get(\"Guidance\",\"\").strip()\n",
        "\n",
        "  full_text = \" \".join([control, purpose, guidance]).strip()\n",
        "\n",
        "  sentences = sent_tokenize(full_text)\n",
        "\n",
        "  num_chunks = min(100,len(sentences))\n",
        "  chunk_size = max(1,len(sentences)//num_chunks)\n",
        "\n",
        "  chunks = [\n",
        "        \" \".join(sentences[i:i + chunk_size])\n",
        "        for i in range(0, len(sentences), chunk_size)\n",
        "    ]\n",
        "\n",
        "  chunked_data[clause_id] = {\n",
        "        \"Clause Name\": clause_name,\n",
        "        \"Chunks\": chunks\n",
        "    }\n"
      ],
      "metadata": {
        "id": "2Z5mp97sUtPx"
      },
      "execution_count": 24,
      "outputs": []
    },
    {
      "cell_type": "code",
      "source": [
        "with open(OUTPUT_FILE, \"w\", encoding=\"utf-8\") as f:\n",
        "    json.dump(chunked_data, f, indent=4)\n",
        "\n",
        "print(f\"\\n✅ Saved chunked control data to: {OUTPUT_FILE}\")\n"
      ],
      "metadata": {
        "colab": {
          "base_uri": "https://localhost:8080/"
        },
        "id": "4etuwMQXW9Ao",
        "outputId": "206bdfed-0837-4216-aa42-b47697090ae4"
      },
      "execution_count": 26,
      "outputs": [
        {
          "output_type": "stream",
          "name": "stdout",
          "text": [
            "\n",
            "✅ Saved chunked control data to: iso27002_chunked_100.json\n"
          ]
        }
      ]
    },
    {
      "cell_type": "code",
      "source": [],
      "metadata": {
        "id": "sgu2NJKLXExB"
      },
      "execution_count": null,
      "outputs": []
    }
  ]
}