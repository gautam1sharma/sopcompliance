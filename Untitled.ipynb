{
 "cells": [
  {
   "cell_type": "code",
   "execution_count": 5,
   "id": "6aa6c9ee-0383-41eb-877f-fec9b5602741",
   "metadata": {},
   "outputs": [
    {
     "name": "stdout",
     "output_type": "stream",
     "text": [
      " Current working directory: C:\\Users\\DELL\\Desktop\\Horizon17\\sopcompliance\n"
     ]
    }
   ],
   "source": [
    "import os\n",
    "print(\" Current working directory:\", os.getcwd())"
   ]
  },
  {
   "cell_type": "code",
   "execution_count": 6,
   "id": "2687ef75-d633-419a-92ac-bd44dabe7148",
   "metadata": {},
   "outputs": [],
   "source": [
    "import fitz  # PyMuPDF\n",
    "import re\n",
    "import json\n",
    "from collections import Counter\n",
    "import nltk\n",
    "from nltk.tokenize import sent_tokenize"
   ]
  },
  {
   "cell_type": "code",
   "execution_count": 7,
   "id": "21e44925-7bde-44a3-a633-ed0676f4238e",
   "metadata": {},
   "outputs": [
    {
     "name": "stderr",
     "output_type": "stream",
     "text": [
      "[nltk_data] Downloading package punkt_tab to\n",
      "[nltk_data]     C:\\Users\\DELL\\AppData\\Roaming\\nltk_data...\n",
      "[nltk_data]   Package punkt_tab is already up-to-date!\n"
     ]
    },
    {
     "data": {
      "text/plain": [
       "True"
      ]
     },
     "execution_count": 7,
     "metadata": {},
     "output_type": "execute_result"
    }
   ],
   "source": [
    "nltk.download(\"punkt_tab\")"
   ]
  },
  {
   "cell_type": "code",
   "execution_count": 8,
   "id": "b2b6349a-7cab-40a0-9b69-95b72f364adf",
   "metadata": {},
   "outputs": [],
   "source": [
    "def extract_text_from_pdf(pdf_path):\n",
    "    doc = fitz.open(pdf_path)\n",
    "    all_text = []\n",
    "    headers, footers = [], []\n",
    "\n",
    "    for page in doc:\n",
    "        lines = page.get_text().split('\\n')\n",
    "        if lines:\n",
    "            headers.append(lines[0])\n",
    "            footers.append(lines[-1])\n",
    "        all_text.append('\\n'.join(lines))\n",
    "\n",
    "    header_to_remove = Counter(headers).most_common(1)[0][0]\n",
    "    footer_to_remove = Counter(footers).most_common(1)[0][0]\n",
    "\n",
    "    cleaned_pages = []\n",
    "    for page_text in all_text:\n",
    "        lines = page_text.split('\\n')\n",
    "        if lines[0] == header_to_remove:\n",
    "            lines = lines[1:]\n",
    "        if lines and lines[-1] == footer_to_remove:\n",
    "            lines = lines[:-1]\n",
    "        cleaned_pages.append('\\n'.join(lines))\n",
    "\n",
    "    full_clean_text = '\\n'.join(cleaned_pages)\n",
    "    match = re.search(\n",
    "        r\"5\\s+Organizational controls(.*?)9\\s+(Annex|Reference control set)\",\n",
    "        full_clean_text,\n",
    "        re.DOTALL | re.IGNORECASE\n",
    "    )\n",
    "    if not match:\n",
    "        return \"\"\n",
    "\n",
    "    extracted_text = match.group(1)\n",
    "    extracted_text = re.sub(r\"[^\\w\\s.,:;!?()\\\"'-]\", \"\", extracted_text)\n",
    "    extracted_text = re.sub(r'\\s+', ' ', extracted_text).strip()\n",
    "\n",
    "    return extracted_text\n",
    "\n"
   ]
  },
  {
   "cell_type": "code",
   "execution_count": 9,
   "id": "18023797-45ba-41af-aaf5-44867e80283b",
   "metadata": {},
   "outputs": [],
   "source": [
    "def extract_controls_with_attributes(text):\n",
    "    entries = list(re.finditer(r\"(?P<section>\\d{1,2}\\.\\d{1,2})\\s(.+?)(?=(?:\\d{1,2}\\.\\d{1,2})\\s|$)\", text, re.DOTALL))\n",
    "    controls = {}\n",
    "\n",
    "    for entry in entries:\n",
    "        block = entry.group(0)\n",
    "        number = entry.group(\"section\")\n",
    "        title_match = re.match(r\"\\d{1,2}\\.\\d{1,2}\\s(.+?)\\s(Purpose|Guidance|$)\", block)\n",
    "        title = title_match.group(1).strip() if title_match else \"Unknown\"\n",
    "\n",
    "        purpose_match = re.search(r\"Purpose\\s(.*?)(?=Guidance|$)\", block, re.DOTALL)\n",
    "        guidance_match = re.search(r\"Guidance\\s(.*?)(?=\\d{1,2}\\.\\d{1,2}\\s|$)\", block, re.DOTALL)\n",
    "\n",
    "        temp_block = re.sub(r\"Purpose\\s.*?(?=Guidance|$)\", \"\", block, flags=re.DOTALL)\n",
    "        temp_block = re.sub(r\"Guidance\\s.*?(?=\\d{1,2}\\.\\d{1,2}\\s|$)\", \"\", temp_block, flags=re.DOTALL)\n",
    "        temp_block = re.sub(rf\"^{number}\\s+{re.escape(title)}\", \"\", temp_block).strip()\n",
    "\n",
    "        controls[f\"{number}: {title}\"] = {\n",
    "            \"control\": sent_tokenize(temp_block) if temp_block else [\"Not provided\"],\n",
    "            \"purpose\": purpose_match.group(1).strip() if purpose_match else \"Not provided\",\n",
    "            \"guidance\": guidance_match.group(1).strip() if guidance_match else \"Not provided\"\n",
    "        }\n",
    "\n",
    "    return controls\n"
   ]
  },
  {
   "cell_type": "code",
   "execution_count": 10,
   "id": "8f358807-6938-43ae-a3e1-e237dd24e54c",
   "metadata": {},
   "outputs": [],
   "source": [
    "def save_to_json(data,output_file):\n",
    "    with open(output_file,\"w\",encoding = \"utf-8\") as f:\n",
    "        json.dump(data,f,indent=2,ensure_ascii=False)"
   ]
  },
  {
   "cell_type": "code",
   "execution_count": 11,
   "id": "dc70b29d-a5d4-4c29-92ef-5e2327fe9ab2",
   "metadata": {},
   "outputs": [
    {
     "name": "stdout",
     "output_type": "stream",
     "text": [
      " JSON saved to controlsv2.json\n"
     ]
    }
   ],
   "source": [
    "if __name__ == \"__main__\":\n",
    "    pdf_path = \"C:/Users/DELL/Desktop/Horizon17/ISO 27002.pdf\"  # Replace with your actual file path\n",
    "    output_json = \"controlsv2.json\"\n",
    "\n",
    "    raw_text = extract_text_from_pdf(pdf_path)\n",
    "    controls = extract_controls_with_attributes(raw_text)\n",
    "\n",
    "    with open(output_json, \"w\", encoding=\"utf-8\") as f:\n",
    "        json.dump(controls, f, indent=2, ensure_ascii=False)\n",
    "\n",
    "    print(f\" JSON saved to {output_json}\")"
   ]
  },
  {
   "cell_type": "code",
   "execution_count": 13,
   "id": "8f494b43-d1ff-4c74-b56e-3d461e4e0849",
   "metadata": {},
   "outputs": [],
   "source": [
    "import json\n",
    "\n",
    "with open(\"C:/Users/DELL/Desktop/Horizon17/sopcompliance/controlsv2.json\", \"r\", encoding=\"utf-8\") as f:\n",
    "    data = json.load(f)\n",
    "\n",
    "for key, value in data.items():\n",
    "    print(f\"\\n {key}\")\n",
    "    print(\"• Control:\")\n",
    "    for sentence in value[\"control\"]:\n",
    "        print(f\"  - {sentence}\")\n",
    "    print(f\"• Purpose: {value['purpose']}/n\")\n",
    "    print(f\"• Guidance: {value['guidance']}\")"
   ]
  },
  {
   "cell_type": "code",
   "execution_count": null,
   "id": "f3b22381-236b-4f2f-b596-3220c2431a97",
   "metadata": {},
   "outputs": [],
   "source": []
  }
 ],
 "metadata": {
  "kernelspec": {
   "display_name": "Python 3 (ipykernel)",
   "language": "python",
   "name": "python3"
  },
  "language_info": {
   "codemirror_mode": {
    "name": "ipython",
    "version": 3
   },
   "file_extension": ".py",
   "mimetype": "text/x-python",
   "name": "python",
   "nbconvert_exporter": "python",
   "pygments_lexer": "ipython3",
   "version": "3.12.7"
  }
 },
 "nbformat": 4,
 "nbformat_minor": 5
}
