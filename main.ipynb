{
 "cells": [
  {
   "cell_type": "code",
   "execution_count": 8,
   "id": "fce6e518",
   "metadata": {},
   "outputs": [],
   "source": [
    "import pymupdf\n",
    "import re"
   ]
  },
  {
   "cell_type": "code",
   "execution_count": null,
   "id": "1ee99c8a",
   "metadata": {},
   "outputs": [],
   "source": [
    "import pymupdf\n",
    "import re\n",
    "\n",
    "doc = pymupdf.open(\"Information-Security-Policy_230209_EN.pdf\")\n",
    "out = open(\"output.txt\", \"w\", encoding=\"utf8\")\n",
    "for page in doc: \n",
    "    text = page.get_text() \n",
    "    lines = text.splitlines()\n",
    "    for line in lines:\n",
    "        \n",
    "        if not re.match(r\"^(page\\s+\\d+\\s+of\\s+\\d+)$|^(Page\\s+\\d+\\s+of\\s+\\d+)$|^(\\d+\\s*/\\s*\\d+)$|^(\\d+\\s+of\\s+\\d+)$\", line.strip(), re.IGNORECASE):\n",
    "            out.write(line + \"\\n\") \n",
    "\n",
    "out.close()\n"
   ]
  },
  {
   "cell_type": "code",
   "execution_count": null,
   "id": "bb1fc7a7",
   "metadata": {},
   "outputs": [],
   "source": [
    "import re, json\n",
    "with open('output.txt', 'r', encoding='utf8') as f:\n",
    "    lines = f.read().splitlines()\n",
    "controls = {}\n",
    "current_id = None\n",
    "for line in lines:\n",
    "    m = re.match(r'^([A-Z]\\.[0-9]+\\.[0-9]+)\\s+(.*)', line)\n",
    "    if m:\n",
    "        current_id, desc = m.groups()\n",
    "        controls[current_id] = desc.strip()\n",
    "    elif current_id and line.strip():\n",
    "        controls[current_id] += ' ' + line.strip()\n",
    "with open('sop_controls.json', 'w', encoding='utf8') as f:\n",
    "    json.dump(controls, f, indent=2)\n",
    "print(f\"Extracted {len(controls)} controls from SOP\")"
   ]
  },
  {
   "cell_type": "code",
   "execution_count": null,
   "id": "cf662da2",
   "metadata": {},
   "outputs": [],
   "source": []
  },
  {
   "cell_type": "code",
   "execution_count": null,
   "id": "84d26756",
   "metadata": {},
   "outputs": [],
   "source": [
    "# Load controls\n",
    "import json\n",
    "with open('sop_controls.json', 'r', encoding='utf8') as f:\n",
    "    sop_controls = json.load(f)\n",
    "with open('iso27002.json', 'r', encoding='utf8') as f:\n",
    "    iso_controls = json.load(f)\n",
    "\n",
    "# Prepare texts for embedding\n",
    "sop_texts = [desc for desc in sop_controls.values()]\n",
    "iso_texts = [desc for desc in iso_controls.values()]\n",
    "iso_keys = list(iso_controls.keys())\n",
    "\n",
    "# Generate embeddings\n",
    "from sentence_transformers import SentenceTransformer\n",
    "model = SentenceTransformer('all-roberta-large-v1')\n",
    "\n",
    "sop_emb = model.encode(sop_texts, convert_to_tensor=True)\n",
    "iso_emb = model.encode(iso_texts, convert_to_tensor=True)\n",
    "\n",
    "# Compute similarities and mappings\n",
    "import torch\n",
    "from torch.nn.functional import cosine_similarity\n",
    "\n",
    "mappings = {}\n",
    "for i, key in enumerate(sop_controls):\n",
    "    sims = cosine_similarity(sop_emb[i].unsqueeze(0), iso_emb)\n",
    "    best_idx = torch.argmax(sims).item()\n",
    "    mappings[key] = {\n",
    "        'sop_desc': sop_controls[key],\n",
    "        'matched_iso': iso_keys[best_idx],\n",
    "        'iso_desc': iso_controls[iso_keys[best_idx]],\n",
    "        'similarity': sims[0][best_idx].item()\n",
    "    }\n",
    "\n",
    "# Save mappings\n",
    "with open('sop_iso_mapping.json', 'w', encoding='utf8') as f:\n",
    "    json.dump(mappings, f, indent=2)\n",
    "\n",
    "print(f\"Mapped {len(mappings)} SOP controls to ISO 27002 standards.\")"
   ]
  }
 ],
 "metadata": {
  "kernelspec": {
   "display_name": "Python 3",
   "language": "python",
   "name": "python3"
  },
  "language_info": {
   "codemirror_mode": {
    "name": "ipython",
    "version": 3
   },
   "file_extension": ".py",
   "mimetype": "text/x-python",
   "name": "python",
   "nbconvert_exporter": "python",
   "pygments_lexer": "ipython3",
   "version": "3.13.3"
  }
 },
 "nbformat": 4,
 "nbformat_minor": 5
}
