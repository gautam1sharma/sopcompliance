{
 "cells": [
  {
   "cell_type": "code",
   "execution_count": 4,
   "id": "6fdc67d7",
   "metadata": {},
   "outputs": [],
   "source": [
    "import fitz as pdf"
   ]
  },
  {
   "cell_type": "code",
   "execution_count": 5,
   "id": "c5d164e2",
   "metadata": {},
   "outputs": [],
   "source": [
    "import os"
   ]
  },
  {
   "cell_type": "code",
   "execution_count": 6,
   "id": "88255453",
   "metadata": {},
   "outputs": [],
   "source": [
    "path= os.path.dirname(os.path.abspath(\"test_sop.pdf\"))"
   ]
  },
  {
   "cell_type": "code",
   "execution_count": 7,
   "id": "4365b2e3",
   "metadata": {},
   "outputs": [],
   "source": [
    "def extract_text_from_pdf(pdf_path):\n",
    "\n",
    "    text = \"\"\n",
    "    with pdf.open(pdf_path) as doc:\n",
    "        for page in doc:\n",
    "            text += page.get_text()\n",
    "    return text"
   ]
  },
  {
   "cell_type": "code",
   "execution_count": 9,
   "id": "11ac853e",
   "metadata": {},
   "outputs": [],
   "source": [
    "text=extract_text_from_pdf(os.path.join(path, \"test_sop.pdf\"))"
   ]
  },
  {
   "cell_type": "code",
   "execution_count": 26,
   "id": "9b5c8dce",
   "metadata": {},
   "outputs": [],
   "source": [
    "def extract_text_from_pdf(pdf_path):\n",
    "    processed_text = \"\"\n",
    "    with pdf.open(pdf_path) as doc:\n",
    "        for i, page in enumerate(doc):\n",
    "            processed_text += f\"--- Page {i+1} ---\\n\"\n",
    "            processed_text += page.get_text()\n",
    "            # processed_text += \"\\n\\n\"\n",
    "    return processed_text"
   ]
  },
  {
   "cell_type": "code",
   "execution_count": 27,
   "id": "c578bbd5",
   "metadata": {},
   "outputs": [],
   "source": [
    "text=extract_text_from_pdf(os.path.join(path, \"1SecurityPolicy_version_1.0.pdf\"))"
   ]
  },
  {
   "cell_type": "code",
   "execution_count": 28,
   "id": "ea56dfac",
   "metadata": {},
   "outputs": [
    {
     "data": {
      "text/plain": [
       "'--- Page 1 ---\\n--- Page 2 ---\\n \\n \\n \\n \\n \\n \\n \\n \\n \\n \\n \\n \\n \\n \\n \\n \\n \\n \\n \\n \\n \\n \\n \\n \\n \\n \\n \\n \\n      Information Security Policy \\n \\n \\n \\n \\n \\n \\n \\n \\n \\n \\n \\n \\n \\n \\n \\n \\n \\n \\nVersion: 1.0 \\n \\n \\n \\n \\nController General of'"
      ]
     },
     "execution_count": 28,
     "metadata": {},
     "output_type": "execute_result"
    }
   ],
   "source": [
    "text[0:200]"
   ]
  },
  {
   "cell_type": "code",
   "execution_count": 31,
   "id": "d04457a1",
   "metadata": {},
   "outputs": [],
   "source": [
    "text = text.replace(\"\\n\", \"\").replace(\"\\r\", \" \")\n",
    "text = text.replace(\"  \", \" \").replace(\"  \", \"\")\n",
    "text = text.replace(\".\",\"\")"
   ]
  },
  {
   "cell_type": "code",
   "execution_count": 32,
   "id": "5f42eb8b",
   "metadata": {},
   "outputs": [
    {
     "data": {
      "text/plain": [
       "'--- Page 1 ------ Page 2 --- Information Security Policy Version: 10 Controller General of Defence Accounts New Delhi --- Page 3 ---Table of Contents Introduction 1 Chapter 1 Password Construction Guidelines 2 Chapter 2 Password Protection Policy 4 Chapter 3 Email Policy 6 Chapter 4 Clean Desk Policy 7 Chapter 5 Workstation Policy 8 Chapter 6 Digital Signature Policy 9 Chapter 7 Acceptable Use Policy 11 Chapter 8 Server Security Policy 13 Chapter 9 Database Credentials Policy 15 Chapter 10 Information Logging Standard 17 Chapter 11 Router and Switch Policy 19 Chapter 12 Wireless Communication Standard 20 Chapter 13 Wireless Communication Policy 21 Chapter 14 Remote Access Policy 22 Chapter 15 Bluetooth Policy 23 Chapter 16 Application Security Policy 25 Chapter 17 Equipment Disposal Policy 27 Chapter 18 Acceptable Encryption Policy 28 Chapter 19 Disaster Recovery Plan 30 Chapter 20 Human Resource Policy 31 Chapter 21 Data Transmission Policy 32 Some Definitions 34 --- Page 4 ---Introdu'"
      ]
     },
     "execution_count": 32,
     "metadata": {},
     "output_type": "execute_result"
    }
   ],
   "source": [
    "text[:1000]"
   ]
  },
  {
   "cell_type": "code",
   "execution_count": null,
   "id": "a1a34785",
   "metadata": {},
   "outputs": [],
   "source": []
  }
 ],
 "metadata": {
  "kernelspec": {
   "display_name": "Python 3",
   "language": "python",
   "name": "python3"
  },
  "language_info": {
   "codemirror_mode": {
    "name": "ipython",
    "version": 3
   },
   "file_extension": ".py",
   "mimetype": "text/x-python",
   "name": "python",
   "nbconvert_exporter": "python",
   "pygments_lexer": "ipython3",
   "version": "3.13.3"
  }
 },
 "nbformat": 4,
 "nbformat_minor": 5
}
